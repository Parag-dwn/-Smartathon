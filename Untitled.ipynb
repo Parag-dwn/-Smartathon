{
 "cells": [
  {
   "cell_type": "code",
   "execution_count": 1,
   "id": "dec48494",
   "metadata": {},
   "outputs": [],
   "source": [
    "import os\n",
    "import numpy as np\n",
    "import pandas as pd\n",
    "import cv2 as cv\n",
    "import matplotlib.pyplot as plt\n",
    "from tqdm import tqdm\n",
    "import glob\n",
    "import tensorflow as tf\n",
    "\n",
    "from sklearn.metrics import classification_report,accuracy_score"
   ]
  },
  {
   "cell_type": "code",
   "execution_count": 2,
   "id": "c43aa344",
   "metadata": {},
   "outputs": [],
   "source": [
    "path=\"D:\\downloads\\dataset\\dataset\"\n",
    "img_path=\"D:\\downloads\\dataset\\dataset\\images\"\n",
    "IMG_SIZE=100\n",
    "INIT_LR = 1e-4\n",
    "EPOCHS = 20\n",
    "#BS = 32"
   ]
  },
  {
   "cell_type": "code",
   "execution_count": 3,
   "id": "1a09a895",
   "metadata": {},
   "outputs": [],
   "source": [
    "dir_list=os.listdir(path)"
   ]
  },
  {
   "cell_type": "code",
   "execution_count": 9,
   "id": "a2082da9",
   "metadata": {},
   "outputs": [
    {
     "data": {
      "text/plain": [
       "'D:\\\\downloads\\\\dataset\\\\dataset\\\\images'"
      ]
     },
     "execution_count": 9,
     "metadata": {},
     "output_type": "execute_result"
    }
   ],
   "source": [
    "img_path"
   ]
  },
  {
   "cell_type": "code",
   "execution_count": 10,
   "id": "8344e1cd",
   "metadata": {},
   "outputs": [
    {
     "data": {
      "text/plain": [
       "['data.ipynb', 'images', 'sample_submission.csv', 'test.csv', 'train.csv']"
      ]
     },
     "execution_count": 10,
     "metadata": {},
     "output_type": "execute_result"
    }
   ],
   "source": [
    "dir_list"
   ]
  },
  {
   "cell_type": "code",
   "execution_count": 11,
   "id": "b2407363",
   "metadata": {},
   "outputs": [],
   "source": [
    "img_file=os.listdir(path+\"\\images\")"
   ]
  },
  {
   "cell_type": "code",
   "execution_count": 12,
   "id": "97c87017",
   "metadata": {},
   "outputs": [
    {
     "data": {
      "text/plain": [
       "'000b0fd767c5ab2656b7ed8d43674777.jpg'"
      ]
     },
     "execution_count": 12,
     "metadata": {},
     "output_type": "execute_result"
    }
   ],
   "source": [
    "img_file[0]"
   ]
  },
  {
   "cell_type": "code",
   "execution_count": 13,
   "id": "b486b444",
   "metadata": {},
   "outputs": [],
   "source": [
    "def label_img(img):\n",
    "    word_label = img.split('.')[-3]"
   ]
  },
  {
   "cell_type": "code",
   "execution_count": 14,
   "id": "655286a8",
   "metadata": {},
   "outputs": [],
   "source": [
    "## Load Csv Files:\n",
    "train=pd.read_csv(path +\"\\\\train.csv\")[:7000]\n",
    "test=pd.read_csv(path+\"\\\\test.csv\")[:2000]\n"
   ]
  },
  {
   "cell_type": "code",
   "execution_count": null,
   "id": "6de03431",
   "metadata": {},
   "outputs": [],
   "source": []
  },
  {
   "cell_type": "code",
   "execution_count": 15,
   "id": "b764c2db",
   "metadata": {},
   "outputs": [
    {
     "name": "stdout",
     "output_type": "stream",
     "text": [
      "4a48c42c9579ec0399e6c5a3e825e765.jpg\n"
     ]
    }
   ],
   "source": [
    "## Load Image:\n",
    "train_image,train_label = [],[]\n",
    "## Load Image:\n",
    "def showimg(img,clas,label):\n",
    "    path=os.path.join(img_path,img)\n",
    "    img=cv.imread(path,cv.IMREAD_COLOR)\n",
    "    img=cv.resize(img,(100,100))\n",
    "    train_image.append(np.array(img)/255)\n",
    "    train_label.append(clas)\n",
    "    #cv.imshow(label,img)\n",
    "    #v.waitKey(0)\n",
    "img=train['image_path'][0]\n",
    "print(img)\n",
    "\n",
    "#showimg(train['image_path'][0],train['class'][0],train['name'][0])\n"
   ]
  },
  {
   "cell_type": "code",
   "execution_count": 16,
   "id": "706bd277",
   "metadata": {},
   "outputs": [],
   "source": [
    "test_image,test_label=[],[]\n",
    "def load_test(img,clas,label):\n",
    "    path=os.path.join(img_path,img)\n",
    "    img=cv.imread(path,cv.IMREAD_COLOR)\n",
    "    img=cv.resize(img,(100,100))\n",
    "    test_image.append(np.array(img)/255)\n",
    "    test_label.append(clas)"
   ]
  },
  {
   "cell_type": "code",
   "execution_count": 17,
   "id": "8b8b03b3",
   "metadata": {},
   "outputs": [],
   "source": [
    "for i in train.index:\n",
    "    \n",
    "    showimg(train['image_path'][i],train['class'][i],train['name'][i])\n",
    "    #print(train['name'][i])\n",
    "    "
   ]
  },
  {
   "cell_type": "code",
   "execution_count": 18,
   "id": "9f05310b",
   "metadata": {},
   "outputs": [],
   "source": [
    "for i in test.index:\n",
    "    load_test(train['image_path'][i],train['class'][i],train['name'][i])\n",
    "    #print(train['name'][i])"
   ]
  },
  {
   "cell_type": "code",
   "execution_count": 19,
   "id": "a430acdf",
   "metadata": {},
   "outputs": [],
   "source": [
    "train_image=np.array(train_image)"
   ]
  },
  {
   "cell_type": "code",
   "execution_count": 20,
   "id": "dabced51",
   "metadata": {},
   "outputs": [],
   "source": [
    "test_image=np.array(test_image)"
   ]
  },
  {
   "cell_type": "code",
   "execution_count": 21,
   "id": "22a91739",
   "metadata": {},
   "outputs": [
    {
     "data": {
      "text/plain": [
       "'Setting up the features and labels'"
      ]
     },
     "execution_count": 21,
     "metadata": {},
     "output_type": "execute_result"
    }
   ],
   "source": [
    "train_label =np.array(train_label)\n",
    "test_label =np.array(test_label)\n",
    "  \n",
    "'''Setting up the features and labels'''\n",
    "# X-Features & Y-Labels\n",
    "#train_image, test_image = train_image / 255.0, test_image / 255.0\n",
    "\n"
   ]
  },
  {
   "cell_type": "code",
   "execution_count": 22,
   "id": "3858c110",
   "metadata": {},
   "outputs": [
    {
     "data": {
      "text/plain": [
       "(100, 100, 3)"
      ]
     },
     "execution_count": 22,
     "metadata": {},
     "output_type": "execute_result"
    }
   ],
   "source": [
    "train_image[0].shape"
   ]
  },
  {
   "cell_type": "code",
   "execution_count": 23,
   "id": "edf43661",
   "metadata": {},
   "outputs": [],
   "source": [
    "from tensorflow.keras.models import Sequential\n",
    "from tensorflow.keras import layers,models\n",
    "from tensorflow.keras.layers import Dense, Conv2D, MaxPooling2D, Dropout, Flatten"
   ]
  },
  {
   "cell_type": "markdown",
   "id": "e260b07e",
   "metadata": {},
   "source": [
    "### Simple neural network"
   ]
  },
  {
   "cell_type": "code",
   "execution_count": 56,
   "id": "c8f73664",
   "metadata": {},
   "outputs": [
    {
     "name": "stdout",
     "output_type": "stream",
     "text": [
      "Epoch 1/3\n",
      "313/313 [==============================] - 65s 201ms/step - loss: 1.7769 - accuracy: 0.4174\n",
      "Epoch 2/3\n",
      "313/313 [==============================] - 61s 196ms/step - loss: 1.6045 - accuracy: 0.4414\n",
      "Epoch 3/3\n",
      "313/313 [==============================] - 65s 206ms/step - loss: 1.5554 - accuracy: 0.4616\n"
     ]
    },
    {
     "data": {
      "text/plain": [
       "<keras.callbacks.History at 0x17ccc679f40>"
      ]
     },
     "execution_count": 56,
     "metadata": {},
     "output_type": "execute_result"
    }
   ],
   "source": []
  },
  {
   "cell_type": "code",
   "execution_count": 57,
   "id": "deb8d1a8",
   "metadata": {},
   "outputs": [
    {
     "name": "stdout",
     "output_type": "stream",
     "text": [
      "63/63 [==============================] - 3s 46ms/step - loss: 1.5591 - accuracy: 0.4415\n"
     ]
    },
    {
     "data": {
      "text/plain": [
       "[1.5591026544570923, 0.4415000081062317]"
      ]
     },
     "execution_count": 57,
     "metadata": {},
     "output_type": "execute_result"
    }
   ],
   "source": []
  },
  {
   "cell_type": "markdown",
   "id": "807cb50b",
   "metadata": {},
   "source": [
    "## Convolutional Neural Network"
   ]
  },
  {
   "cell_type": "code",
   "execution_count": 24,
   "id": "f90afc28",
   "metadata": {},
   "outputs": [],
   "source": [
    "cnn=models.Sequential(\n",
    "[\n",
    "    layers.Conv2D(32, (3, 3), activation='relu', input_shape=(IMG_SIZE, IMG_SIZE, 3)),\n",
    "    layers.MaxPooling2D((2, 2)),\n",
    "    layers.Conv2D(64, (3, 3), activation='relu'),\n",
    "    layers.MaxPooling2D((2, 2)),\n",
    "    layers.Conv2D(64, (3, 3), activation='relu'),\n",
    "    layers.MaxPooling2D((2, 2)),\n",
    "    layers.Conv2D(64, (3, 3), activation='relu'),\n",
    "    layers.Flatten(),\n",
    "    layers.Dense(128,activation='relu'),\n",
    "    layers.Dense(11,activation='softmax')\n",
    "])\n"
   ]
  },
  {
   "cell_type": "code",
   "execution_count": 25,
   "id": "f7cd4fec",
   "metadata": {},
   "outputs": [
    {
     "name": "stdout",
     "output_type": "stream",
     "text": [
      "Epoch 1/10\n",
      "219/219 [==============================] - 57s 256ms/step - loss: 1.6704 - accuracy: 0.4396 - val_loss: 1.5236 - val_accuracy: 0.4745\n",
      "Epoch 2/10\n",
      "219/219 [==============================] - 59s 269ms/step - loss: 1.4711 - accuracy: 0.4837 - val_loss: 1.3524 - val_accuracy: 0.5365\n",
      "Epoch 3/10\n",
      "219/219 [==============================] - 53s 242ms/step - loss: 1.3204 - accuracy: 0.5404 - val_loss: 1.2178 - val_accuracy: 0.5550\n",
      "Epoch 4/10\n",
      "219/219 [==============================] - 51s 234ms/step - loss: 1.1781 - accuracy: 0.5866 - val_loss: 1.0782 - val_accuracy: 0.6045\n",
      "Epoch 5/10\n",
      "219/219 [==============================] - 51s 234ms/step - loss: 1.0505 - accuracy: 0.6291 - val_loss: 1.1179 - val_accuracy: 0.5855\n",
      "Epoch 6/10\n",
      "219/219 [==============================] - 53s 240ms/step - loss: 0.9203 - accuracy: 0.6726 - val_loss: 0.7914 - val_accuracy: 0.7215\n",
      "Epoch 7/10\n",
      "219/219 [==============================] - 52s 236ms/step - loss: 0.7998 - accuracy: 0.7180 - val_loss: 0.6736 - val_accuracy: 0.7595\n",
      "Epoch 8/10\n",
      "219/219 [==============================] - 53s 243ms/step - loss: 0.6992 - accuracy: 0.7511 - val_loss: 0.6168 - val_accuracy: 0.7770\n",
      "Epoch 9/10\n",
      "219/219 [==============================] - 55s 251ms/step - loss: 0.6165 - accuracy: 0.7760 - val_loss: 0.4896 - val_accuracy: 0.8215\n",
      "Epoch 10/10\n",
      "219/219 [==============================] - 61s 279ms/step - loss: 0.5547 - accuracy: 0.7964 - val_loss: 0.4383 - val_accuracy: 0.8430\n"
     ]
    }
   ],
   "source": [
    "cnn.compile(optimizer='adam',\n",
    "           loss='sparse_categorical_crossentropy',\n",
    "           metrics=['accuracy'])\n",
    "history=cnn.fit(train_image,train_label,epochs=10,validation_data=(test_image, test_label))"
   ]
  },
  {
   "cell_type": "code",
   "execution_count": 26,
   "id": "586801eb",
   "metadata": {},
   "outputs": [
    {
     "name": "stdout",
     "output_type": "stream",
     "text": [
      "63/63 [==============================] - 4s 51ms/step - loss: 0.4383 - accuracy: 0.8430\n"
     ]
    },
    {
     "data": {
      "text/plain": [
       "[0.43829575181007385, 0.8429999947547913]"
      ]
     },
     "execution_count": 26,
     "metadata": {},
     "output_type": "execute_result"
    }
   ],
   "source": [
    "cnn.evaluate(test_image,test_label)"
   ]
  },
  {
   "cell_type": "code",
   "execution_count": null,
   "id": "4be33004",
   "metadata": {},
   "outputs": [],
   "source": []
  },
  {
   "cell_type": "code",
   "execution_count": null,
   "id": "af002e50",
   "metadata": {},
   "outputs": [],
   "source": []
  },
  {
   "cell_type": "code",
   "execution_count": 27,
   "id": "65ec5aba",
   "metadata": {},
   "outputs": [
    {
     "data": {
      "text/plain": [
       "<matplotlib.legend.Legend at 0x1f11e28cfa0>"
      ]
     },
     "execution_count": 27,
     "metadata": {},
     "output_type": "execute_result"
    },
    {
     "data": {
      "image/png": "[encoded data removed]",
      "text/plain": [
       "<Figure size 432x288 with 1 Axes>"
      ]
     },
     "metadata": {
      "needs_background": "light"
     },
     "output_type": "display_data"
    }
   ],
   "source": [
    "plt.plot(history.history['accuracy'], label='accuracy')\n",
    "plt.plot(history.history['val_accuracy'], label = 'val_accuracy')\n",
    "plt.xlabel('Epoch')\n",
    "plt.ylabel('Accuracy')\n",
    "plt.ylim([0.5, 1])\n",
    "plt.legend(loc='lower right')"
   ]
  },
  {
   "cell_type": "code",
   "execution_count": 45,
   "id": "1ceacae1",
   "metadata": {},
   "outputs": [],
   "source": []
  },
  {
   "cell_type": "code",
   "execution_count": 28,
   "id": "a12f46d0",
   "metadata": {},
   "outputs": [
    {
     "name": "stdout",
     "output_type": "stream",
     "text": [
      "63/63 [==============================] - 3s 46ms/step\n"
     ]
    }
   ],
   "source": [
    "y_pred=cnn.predict(test_image)"
   ]
  },
  {
   "cell_type": "code",
   "execution_count": 29,
   "id": "45d044e7",
   "metadata": {},
   "outputs": [
    {
     "data": {
      "text/plain": [
       "array([[3.4291979e-02, 8.6706504e-04, 4.4464573e-02, 8.8839042e-01,\n",
       "        3.0631921e-03, 7.4705451e-05, 1.7490146e-08, 7.0992415e-03,\n",
       "        1.2118770e-02, 8.2215779e-03, 1.4085188e-03],\n",
       "       [3.4291979e-02, 8.6706504e-04, 4.4464573e-02, 8.8839042e-01,\n",
       "        3.0631921e-03, 7.4705451e-05, 1.7490146e-08, 7.0992415e-03,\n",
       "        1.2118770e-02, 8.2215779e-03, 1.4085188e-03],\n",
       "       [3.4291979e-02, 8.6706504e-04, 4.4464573e-02, 8.8839042e-01,\n",
       "        3.0631921e-03, 7.4705451e-05, 1.7490146e-08, 7.0992415e-03,\n",
       "        1.2118770e-02, 8.2215779e-03, 1.4085188e-03],\n",
       "       [1.8704059e-06, 3.8195713e-03, 2.6603459e-04, 1.4442142e-02,\n",
       "        5.1360980e-02, 6.3723906e-05, 1.6601571e-09, 9.2986935e-01,\n",
       "        1.3063379e-04, 3.4201388e-05, 1.1510063e-05]], dtype=float32)"
      ]
     },
     "execution_count": 29,
     "metadata": {},
     "output_type": "execute_result"
    }
   ],
   "source": [
    "y_pred[:4]"
   ]
  },
  {
   "cell_type": "code",
   "execution_count": 30,
   "id": "2e9b96a8",
   "metadata": {},
   "outputs": [],
   "source": [
    "y_classes=[np.argmax(element) for element in y_pred]"
   ]
  },
  {
   "cell_type": "code",
   "execution_count": 31,
   "id": "bf013c01",
   "metadata": {},
   "outputs": [
    {
     "data": {
      "text/plain": [
       "[3, 3, 3, 7, 8]"
      ]
     },
     "execution_count": 31,
     "metadata": {},
     "output_type": "execute_result"
    }
   ],
   "source": [
    "y_classes[:5]"
   ]
  },
  {
   "cell_type": "code",
   "execution_count": 32,
   "id": "82bacef0",
   "metadata": {},
   "outputs": [
    {
     "data": {
      "text/plain": [
       "array([3., 3., 3., 7., 8.])"
      ]
     },
     "execution_count": 32,
     "metadata": {},
     "output_type": "execute_result"
    }
   ],
   "source": [
    "test_label[:5]"
   ]
  },
  {
   "cell_type": "code",
   "execution_count": 33,
   "id": "12bd5644",
   "metadata": {},
   "outputs": [],
   "source": [
    "label=train['name'].unique()"
   ]
  },
  {
   "cell_type": "code",
   "execution_count": 34,
   "id": "4585fc78",
   "metadata": {},
   "outputs": [
    {
     "name": "stdout",
     "output_type": "stream",
     "text": [
      "Classification report of the model:\n",
      "                     precision    recall  f1-score   support\n",
      "\n",
      "          GARBAGE       0.82      0.82      0.82       125\n",
      "    BAD_BILLBOARD       0.90      0.56      0.69        16\n",
      "     SAND_ON_ROAD       0.82      0.85      0.84       245\n",
      "         GRAFFITI       0.89      0.84      0.87       895\n",
      "         POTHOLES       0.85      0.95      0.90       243\n",
      " CLUTTER_SIDEWALK       0.60      0.82      0.69        11\n",
      "CONSTRUCTION_ROAD       0.85      0.83      0.84       166\n",
      "   BROKEN_SIGNAGE       0.76      0.51      0.61        63\n",
      "    UNKEPT_FACADE       0.76      0.87      0.81       214\n",
      "    FADED_SIGNAGE       0.52      0.68      0.59        22\n",
      "\n",
      "         accuracy                           0.84      2000\n",
      "        macro avg       0.78      0.77      0.76      2000\n",
      "     weighted avg       0.85      0.84      0.84      2000\n",
      "\n"
     ]
    }
   ],
   "source": [
    "print(\"Classification report of the model:\\n \",classification_report(test_label, y_classes, target_names=label))"
   ]
  },
  {
   "cell_type": "code",
   "execution_count": 37,
   "id": "8397baf0",
   "metadata": {},
   "outputs": [
    {
     "name": "stdout",
     "output_type": "stream",
     "text": [
      "Accuracy of the model:  0.843\n"
     ]
    }
   ],
   "source": [
    "print(\"Accuracy of the model: \",accuracy_score(test_label,y_classes))"
   ]
  },
  {
   "cell_type": "code",
   "execution_count": 21,
   "id": "59773b2c",
   "metadata": {},
   "outputs": [],
   "source": []
  }
 ],
 "metadata": {
  "kernelspec": {
   "display_name": "Python 3 (ipykernel)",
   "language": "python",
   "name": "python3"
  },
  "language_info": {
   "codemirror_mode": {
    "name": "ipython",
    "version": 3
   },
   "file_extension": ".py",
   "mimetype": "text/x-python",
   "name": "python",
   "nbconvert_exporter": "python",
   "pygments_lexer": "ipython3",
   "version": "3.9.13"
  }
 },
 "nbformat": 4,
 "nbformat_minor": 5
}
